{
  "nbformat": 4,
  "nbformat_minor": 0,
  "metadata": {
    "colab": {
      "provenance": [],
      "collapsed_sections": [],
      "authorship_tag": "ABX9TyMoCharuejQU+2EpHE7SiZw",
      "include_colab_link": true
    },
    "kernelspec": {
      "name": "python3",
      "display_name": "Python 3"
    },
    "language_info": {
      "name": "python"
    }
  },
  "cells": [
    {
      "cell_type": "markdown",
      "metadata": {
        "id": "view-in-github",
        "colab_type": "text"
      },
      "source": [
        "<a href=\"https://colab.research.google.com/github/hughman1986/DiagnosisModel_ONNX_Converter/blob/main/%E8%A8%BA%E6%96%B7%E7%AE%97%E6%B3%95%E6%B8%AC%E8%A9%A6.ipynb\" target=\"_parent\"><img src=\"https://colab.research.google.com/assets/colab-badge.svg\" alt=\"Open In Colab\"/></a>"
      ]
    },
    {
      "cell_type": "markdown",
      "source": [
        "https://pytorch.org/audio/stable/functional.html#torchaudio.functional.linear_fbanks\n",
        "\n"
      ],
      "metadata": {
        "id": "7Is3nhd5pggB"
      }
    },
    {
      "cell_type": "code",
      "source": [
        "import torch\n",
        "from torch import Tensor\n",
        "import torchaudio\n",
        "from torchaudio import functional as F\n",
        "\n",
        "import matplotlib.pyplot as plt\n",
        "import numpy as np\n",
        "\n",
        "fb = F.linear_fbanks(\n",
        "    n_freqs= 256,\n",
        "    f_min= 0,\n",
        "    f_max= 5600/2,\n",
        "    n_filter= 30,\n",
        "    sample_rate= 5600)\n"
      ],
      "metadata": {
        "id": "J-Ms52-8j2zo"
      },
      "execution_count": 1,
      "outputs": []
    },
    {
      "cell_type": "code",
      "source": [
        "fb.shape\n",
        "\n"
      ],
      "metadata": {
        "colab": {
          "base_uri": "https://localhost:8080/"
        },
        "id": "NT70QqPFlHV4",
        "outputId": "6c0edf53-71f1-4370-bf72-009f7a554df0"
      },
      "execution_count": null,
      "outputs": [
        {
          "output_type": "execute_result",
          "data": {
            "text/plain": [
              "torch.Size([256, 30])"
            ]
          },
          "metadata": {},
          "execution_count": 6
        }
      ]
    },
    {
      "cell_type": "code",
      "source": [
        "# 生成sin波訊號轉換FFT \n",
        "x = np.linspace(-5000*np.pi, 5000*np.pi, 512)\n",
        "numpy_sin = np.sin(x)\n",
        "\n",
        "tensor_sin = torch.tensor(numpy_sin , dtype=torch.float32)\n",
        "print(\"tensor_sin\",tensor_sin.shape)\n",
        "\n",
        "abs_fft = torch.fft.fft(tensor_sin).abs()[0:256]\n",
        "print(\"abs_fft\",abs_fft.shape)"
      ],
      "metadata": {
        "colab": {
          "base_uri": "https://localhost:8080/"
        },
        "id": "4tQdk58dtZEX",
        "outputId": "2e1f0321-19b5-43e0-ac82-816fd5f8a80f"
      },
      "execution_count": null,
      "outputs": [
        {
          "output_type": "stream",
          "name": "stdout",
          "text": [
            "tensor_sin torch.Size([512])\n",
            "abs_fft torch.Size([256])\n"
          ]
        }
      ]
    },
    {
      "cell_type": "code",
      "source": [
        "# 特徵萃取\n",
        "feature_vec = (fb * abs_fft.reshape((256,1)) ).sum(0)\n",
        "print(\"feature_vec\",feature_vec)\n"
      ],
      "metadata": {
        "id": "ZjfOl3XDOKWP",
        "colab": {
          "base_uri": "https://localhost:8080/"
        },
        "outputId": "177d2e90-6bea-4c65-a3bc-83c8a623eb1a"
      },
      "execution_count": null,
      "outputs": [
        {
          "output_type": "stream",
          "name": "stdout",
          "text": [
            "feature_vec tensor([  0.5227,   1.0632,   1.6451,   2.3012,   3.0597,   3.9727,   5.1347,\n",
            "          6.6953,   8.9656,  12.5186,  19.2355,  37.7003, 296.9919, 214.8637,\n",
            "         36.9206,  22.7519,  17.0133,  13.8699,  11.8458,  10.4850,   9.5012,\n",
            "          8.7881,   8.2014,   7.7593,   7.4171,   7.1604,   6.9583,   6.7931,\n",
            "          6.6876,   6.6240])\n"
          ]
        },
        {
          "output_type": "execute_result",
          "data": {
            "text/plain": [
              "tensor([  0.5227,   1.0632,   1.6451,   2.3012,   3.0597,   3.9727,   5.1347,\n",
              "          6.6953,   8.9656,  12.5186,  19.2355,  37.7003, 296.9919, 214.8637,\n",
              "         36.9206,  22.7519,  17.0133,  13.8699,  11.8458,  10.4850,   9.5012,\n",
              "          8.7881,   8.2014,   7.7593,   7.4171,   7.1604,   6.9583,   6.7931,\n",
              "          6.6876,   6.6240])"
            ]
          },
          "metadata": {},
          "execution_count": 115
        }
      ]
    },
    {
      "cell_type": "code",
      "source": [
        "vec_distance = torch.cdist(feature_vec.reshape(1,30), feature_vec.reshape(1,30), p=2)\n",
        "print(\"vec_distance\",vec_distance)"
      ],
      "metadata": {
        "colab": {
          "base_uri": "https://localhost:8080/"
        },
        "id": "FkBr80azw3wt",
        "outputId": "6b4df405-3ef9-42fb-f73d-494d29b9018d"
      },
      "execution_count": null,
      "outputs": [
        {
          "output_type": "stream",
          "name": "stdout",
          "text": [
            "vec_distance tensor([[0.]])\n"
          ]
        }
      ]
    },
    {
      "cell_type": "markdown",
      "source": [
        "分隔線"
      ],
      "metadata": {
        "id": "jNosjl_bTHhk"
      }
    },
    {
      "cell_type": "code",
      "source": [
        "import torch\n",
        "import torch.nn as nn\n",
        "import torch.nn.functional as F\n",
        "from torchaudio import functional as F\n",
        "\n",
        "class IDMSDiagnosisEngine(nn.Module):\n",
        "\n",
        "    def __init__(self):\n",
        "        super(IDMSDiagnosisEngine, self).__init__()\n",
        "        self.filter_bank = F.linear_fbanks(n_freqs= 256,f_min= 0,f_max= 5600/2,n_filter= 30,sample_rate= 5600)\n",
        "        \n",
        "    def GaussianFunction_abc(self, input_x ,a=1.,b=0.,c=1.5):\n",
        "        y = torch.exp( -0.5 * (input_x - b) / c * (input_x - b) / c );\n",
        "        return y\n",
        "\n",
        "    def forward_one(self, input_FFT):\n",
        "        print(\"1\" , input_FFT.shape)\n",
        "\n",
        "        feature_vec = (self.filter_bank * input_FFT.reshape((256,1)) ).sum(0) \n",
        "        return feature_vec\n",
        "\n",
        "    def forward(self, input_FFT1, input_FFT2):\n",
        "        out1 = self.forward_one(input_FFT1)\n",
        "        out2 = self.forward_one(input_FFT2)\n",
        "        vec_distance = torch.cdist(out1.reshape(1,30), out2.reshape(1,30), p=2)\n",
        "        out = 100 * self.GaussianFunction_abc( vec_distance )\n",
        "        return out\n",
        "\n",
        "IDMSEngine = IDMSDiagnosisEngine()\n"
      ],
      "metadata": {
        "id": "IBnuN0cqw3qK"
      },
      "execution_count": 37,
      "outputs": []
    },
    {
      "cell_type": "code",
      "source": [
        "from torch.autograd import Variable\n",
        "\n",
        "model_onnx_path = \"torch_model.onnx\"\n",
        "input_shape = ( 1, 256)\n",
        "dummy_input = Variable(torch.randn(1, *input_shape))\n",
        "\n",
        "torch.onnx.export(\n",
        "    model = IDMSEngine, \n",
        "    args = (dummy_input, dummy_input), \n",
        "    f = \"IDMSEngine.onnx\",\n",
        "    verbose=False)\n",
        "\n",
        "# ONNX模型可以用Netron視覺化出來 https://netron.app/ "
      ],
      "metadata": {
        "colab": {
          "base_uri": "https://localhost:8080/"
        },
        "id": "YK34tbh2qByC",
        "outputId": "9a9ac7e0-75c5-4061-c8b8-f8b47155b252"
      },
      "execution_count": 42,
      "outputs": [
        {
          "output_type": "stream",
          "name": "stdout",
          "text": [
            "1 torch.Size([1, 1, 256])\n",
            "1 torch.Size([1, 1, 256])\n"
          ]
        },
        {
          "output_type": "stream",
          "name": "stderr",
          "text": [
            "/usr/local/lib/python3.7/dist-packages/ipykernel_launcher.py:17: TracerWarning: Converting a tensor to a Python integer might cause the trace to be incorrect. We can't record the data flow of Python values, so this value will be treated as a constant in the future. This means that the trace might not generalize to other inputs!\n"
          ]
        }
      ]
    },
    {
      "cell_type": "code",
      "source": [],
      "metadata": {
        "colab": {
          "base_uri": "https://localhost:8080/"
        },
        "id": "YGrEQreHtUpu",
        "outputId": "3f78d659-040c-4d1c-a7e6-37d265222213"
      },
      "execution_count": 35,
      "outputs": [
        {
          "output_type": "execute_result",
          "data": {
            "text/plain": [
              "(1, 1, 256)"
            ]
          },
          "metadata": {},
          "execution_count": 35
        }
      ]
    },
    {
      "cell_type": "code",
      "source": [
        "import numpy as np\n",
        "\n",
        "# 生成數據\n",
        "def Sin_gen(n=60):\n",
        "    list_data = []\n",
        "    for i in range(n) :\n",
        "        x = np.linspace((-1000+100*n)*np.pi, (5000+100*n)*np.pi, 512)\n",
        "        numpy_sin = np.sin(x)\n",
        "        list_data.append(numpy_sin)\n",
        "    tensor_sin = torch.tensor(list_data, dtype=torch.float32)\n",
        "    return tensor_sin\n",
        "ss = Sin_gen(60)\n",
        "\n",
        "abs_fft_ss = torch.fft.fft(ss).abs()[:,0:256]\n",
        "print(abs_fft_ss.shape)\n"
      ],
      "metadata": {
        "colab": {
          "base_uri": "https://localhost:8080/"
        },
        "id": "0aBJtjt3aoJE",
        "outputId": "135e167c-9f5d-4bc2-c9f0-cd6255d9e8d2"
      },
      "execution_count": 17,
      "outputs": [
        {
          "output_type": "stream",
          "name": "stdout",
          "text": [
            "torch.Size([60, 256])\n"
          ]
        }
      ]
    },
    {
      "cell_type": "code",
      "source": [
        "HealthScore = IDMSEngine(abs_fft_ss[10],abs_fft_ss[20]) \n",
        "print(HealthScore)"
      ],
      "metadata": {
        "id": "yW4rF0atw3f5",
        "colab": {
          "base_uri": "https://localhost:8080/"
        },
        "outputId": "c1d691bd-4e26-439e-8c52-4196e9329e32"
      },
      "execution_count": 18,
      "outputs": [
        {
          "output_type": "stream",
          "name": "stdout",
          "text": [
            "1 torch.Size([256])\n",
            "1 torch.Size([256])\n",
            "tensor([[100.]])\n"
          ]
        }
      ]
    },
    {
      "cell_type": "code",
      "source": [
        "plt.plot( tensor_sin )"
      ],
      "metadata": {
        "colab": {
          "base_uri": "https://localhost:8080/",
          "height": 282
        },
        "id": "UcD26U-dQhXC",
        "outputId": "d67d045c-adae-46e9-91e7-ae6f0bbaabf5"
      },
      "execution_count": null,
      "outputs": [
        {
          "output_type": "execute_result",
          "data": {
            "text/plain": [
              "[<matplotlib.lines.Line2D at 0x7fdc5914b050>]"
            ]
          },
          "metadata": {},
          "execution_count": 12
        },
        {
          "output_type": "display_data",
          "data": {
            "text/plain": [
              "<Figure size 432x288 with 1 Axes>"
            ],
            "image/png": "[encoded data removed]"
          },
          "metadata": {
            "needs_background": "light"
          }
        }
      ]
    },
    {
      "cell_type": "code",
      "source": [
        "plt.plot( abs_fft )\n"
      ],
      "metadata": {
        "colab": {
          "base_uri": "https://localhost:8080/",
          "height": 282
        },
        "id": "CxZiwQcFRj9S",
        "outputId": "7595fa66-3d62-4527-d64c-17c53b1c4aa9"
      },
      "execution_count": null,
      "outputs": [
        {
          "output_type": "execute_result",
          "data": {
            "text/plain": [
              "[<matplotlib.lines.Line2D at 0x7f24f1ba7bd0>]"
            ]
          },
          "metadata": {},
          "execution_count": 154
        },
        {
          "output_type": "display_data",
          "data": {
            "text/plain": [
              "<Figure size 432x288 with 1 Axes>"
            ],
            "image/png": "[encoded data removed]"
          },
          "metadata": {
            "needs_background": "light"
          }
        }
      ]
    },
    {
      "cell_type": "code",
      "source": [
        "plt.plot( feature_vec )"
      ],
      "metadata": {
        "colab": {
          "base_uri": "https://localhost:8080/",
          "height": 282
        },
        "id": "2i4kd3_xf91B",
        "outputId": "e0cf3bb4-d7a7-45e8-e9ef-862be634b757"
      },
      "execution_count": null,
      "outputs": [
        {
          "output_type": "execute_result",
          "data": {
            "text/plain": [
              "[<matplotlib.lines.Line2D at 0x7f24f1b14450>]"
            ]
          },
          "metadata": {},
          "execution_count": 155
        },
        {
          "output_type": "display_data",
          "data": {
            "text/plain": [
              "<Figure size 432x288 with 1 Axes>"
            ],
            "image/png": "[encoded data removed]"
          },
          "metadata": {
            "needs_background": "light"
          }
        }
      ]
    },
    {
      "cell_type": "code",
      "source": [],
      "metadata": {
        "id": "iymgtIuLSEyz"
      },
      "execution_count": null,
      "outputs": []
    },
    {
      "cell_type": "code",
      "source": [],
      "metadata": {
        "id": "6r1TkUgmZyhB"
      },
      "execution_count": null,
      "outputs": []
    },
    {
      "cell_type": "markdown",
      "source": [
        "### 孿生one shot模型 \n",
        "https://github.com/fangpin/siamese-pytorch/blob/master/model.py\n",
        "\n",
        "https://datahacker.rs/019-siamese-network-in-pytorch-with-application-to-face-similarity/\n",
        "\n",
        "https://colab.research.google.com/github/maticvl/dataHacker/blob/master/pyTorch/014_siameseNetwork.ipynb#scrollTo=U7bz8o__2JKn"
      ],
      "metadata": {
        "id": "tyU_MQtVWbqZ"
      }
    },
    {
      "cell_type": "code",
      "source": [
        "import torch\n",
        "import torch.nn as nn\n",
        "import torch.nn.functional as F\n",
        "\n",
        "\n",
        "class Siamese(nn.Module):\n",
        "\n",
        "    def __init__(self):\n",
        "        super(Siamese, self).__init__()\n",
        "        self.conv = nn.Sequential(\n",
        "            nn.Conv2d(1, 64, 10),  # 64@96*96\n",
        "            nn.ReLU(inplace=True),\n",
        "            nn.MaxPool2d(2),  # 64@48*48\n",
        "            nn.Conv2d(64, 128, 7),\n",
        "            nn.ReLU(),    # 128@42*42\n",
        "            nn.MaxPool2d(2),   # 128@21*21\n",
        "            nn.Conv2d(128, 128, 4),\n",
        "            nn.ReLU(), # 128@18*18\n",
        "            nn.MaxPool2d(2), # 128@9*9\n",
        "            nn.Conv2d(128, 256, 4),\n",
        "            nn.ReLU(),   # 256@6*6\n",
        "        )\n",
        "        self.liner = nn.Sequential(nn.Linear(9216, 4096), nn.Sigmoid())\n",
        "        self.out = nn.Linear(4096, 1)\n",
        "\n",
        "    def forward_one(self, x):\n",
        "        x = self.conv(x)\n",
        "        x = x.view(x.size()[0], -1)\n",
        "        x = self.liner(x)\n",
        "        return x\n",
        "\n",
        "    def forward(self, x1, x2):\n",
        "        out1 = self.forward_one(x1)\n",
        "        out2 = self.forward_one(x2)\n",
        "        dis = torch.abs(out1 - out2)\n",
        "        out = self.out(dis)\n",
        "        #  return self.sigmoid(out)\n",
        "        return out\n"
      ],
      "metadata": {
        "id": "71pwZ4-GwWNb"
      },
      "execution_count": null,
      "outputs": []
    },
    {
      "cell_type": "code",
      "source": [],
      "metadata": {
        "id": "DSbyW1aV0H_i"
      },
      "execution_count": null,
      "outputs": []
    }
  ]
}